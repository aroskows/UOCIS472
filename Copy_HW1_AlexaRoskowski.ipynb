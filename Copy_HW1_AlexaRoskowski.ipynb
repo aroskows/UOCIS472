{
  "cells": [
    {
      "cell_type": "markdown",
      "metadata": {
        "id": "AvD0ssF3CGUq"
      },
      "source": [
        "Alexa Roskowski\n",
        "\n",
        "CIS 471\n",
        "\n",
        "02/16/2022\n",
        "\n",
        "\n",
        "---\n",
        "\n",
        "# Homework 1\n",
        "\n",
        "\n",
        "\n",
        "\n"
      ]
    },
    {
      "cell_type": "markdown",
      "metadata": {
        "id": "GxOZFKDZDckl"
      },
      "source": [
        "First import the dataset and the training set, so we can use them for our models. "
      ]
    },
    {
      "cell_type": "code",
      "execution_count": null,
      "metadata": {
        "colab": {
          "base_uri": "https://localhost:8080/",
          "height": 118,
          "referenced_widgets": [
            "434d3287ff41402d928e67683b589617",
            "4c2c18f1fca34281afff52c6028a3ce6",
            "1657ebb64d3c4f488c9f7905924f074e",
            "d426144659f141a7ac27eb1a7c132d28",
            "1d098bddc4d449b7b06da2cc11f1ca1d",
            "8ed7cf7bea914595aee5c2dcdd2f2f48",
            "93074385427446609f68e8a7110d6c4d",
            "61707d9a91f8453fb31bf6391ab75142",
            "ae018d048fda4753af4a5407a0608486",
            "a1225468903f4b4da8376bc7351a4ba7",
            "d0aa4bd42b5c4ca290b59a5f54cac799"
          ]
        },
        "id": "aPx3rTpEFMFQ",
        "outputId": "70300453-8f4a-409f-9e9e-adfcb28d5828"
      },
      "outputs": [
        {
          "name": "stdout",
          "output_type": "stream",
          "text": [
            "Downloading https://www.cs.toronto.edu/~kriz/cifar-10-python.tar.gz to ./cifar-10-python.tar.gz\n"
          ]
        },
        {
          "data": {
            "application/vnd.jupyter.widget-view+json": {
              "model_id": "434d3287ff41402d928e67683b589617",
              "version_major": 2,
              "version_minor": 0
            },
            "text/plain": [
              "  0%|          | 0/170498071 [00:00<?, ?it/s]"
            ]
          },
          "metadata": {},
          "output_type": "display_data"
        },
        {
          "name": "stdout",
          "output_type": "stream",
          "text": [
            "Extracting ./cifar-10-python.tar.gz to ./\n",
            "Files already downloaded and verified\n",
            "<class 'torch.utils.data.dataloader.DataLoader'>\n"
          ]
        }
      ],
      "source": [
        "\n",
        "from torchvision.transforms.transforms import ToPILImage\n",
        "from torch.utils.data import DataLoader\n",
        "from torchvision import datasets\n",
        "from torchvision import transforms as T \n",
        "import torch\n",
        "import numpy as np\n",
        "import torchvision\n",
        "from torch.autograd import Variable\n",
        "import matplotlib.pyplot as plt\n",
        "\n",
        "\n",
        "\n",
        "transform = T.Compose( [\n",
        "    T.ToTensor(),\n",
        "    T.Normalize(\n",
        "        (1., 1., 1.),\n",
        "        (1., 1., 1.)) ]\n",
        "    )\n",
        "\n",
        "#https://pytorch.org/tutorials/beginner/blitz/cifar10_tutorial.html\n",
        "\n",
        "\n",
        "\n",
        "cifar_dataset = datasets.CIFAR10(root = './',\n",
        "                         train = True,\n",
        "                         download=True,\n",
        "                         transform = transform\n",
        "                         )\n",
        "\n",
        "train_data = DataLoader(cifar_dataset, batch_size = 1, ) #shuffle = True\n",
        "\n",
        "test_set  = datasets.CIFAR10(root='./',\n",
        "                           train = False,\n",
        "                           download = True,\n",
        "                           transform = transform, )\n",
        "\n",
        "test_data = DataLoader(test_set, batch_size = 1, shuffle = True,)\n",
        "\n",
        "\n",
        "print(type(train_data))\n",
        "\n",
        "#print(type(iter()))\n",
        "#data_iter = iter(train_data) #WHY BROKEN :(\n",
        "#print(type(data))\n",
        "\n",
        "#single_point = next(data)\n",
        "#print(len(train_data))\n",
        "#single_point is a list of batchsize tensors\n",
        "\n",
        "#single_test = next(iter(test_data))\n",
        "\n",
        "labels = [\"plane\", \"car\", \"bird\", \"cat\", \"deer\", \"dog\", \n",
        "           \"frog\", \"horse\", \"ship\", \"truck\"]\n",
        "\n",
        "\n",
        "\n",
        "\n",
        "\n",
        "\n"
      ]
    },
    {
      "cell_type": "markdown",
      "metadata": {
        "id": "vnQy35AJguI5"
      },
      "source": [
        "# Linear Classification:\n",
        "\n"
      ]
    },
    {
      "cell_type": "markdown",
      "metadata": {
        "id": "pn97Io9V_TTZ"
      },
      "source": [
        "The fist block of code here is a linear classification through linear regression. It does use *not* bias along with the individual weights. Images are hard to classify linearly, and as such it will never be particularly accurate."
      ]
    },
    {
      "cell_type": "code",
      "execution_count": null,
      "metadata": {
        "colab": {
          "base_uri": "https://localhost:8080/"
        },
        "id": "2QnLaecKLbMu",
        "outputId": "a7845377-68de-410c-89b8-50e1d367c4b1"
      },
      "outputs": [
        {
          "name": "stdout",
          "output_type": "stream",
          "text": [
            "50000\n",
            "Iteration: 50000 Loss: 2.4783191680908203 Accuracy: 20.029998779296875\n",
            "Iteration: 100000 Loss: 2.4544308185577393 Accuracy: 20.079999923706055\n",
            "Iteration: 150000 Loss: 2.4288010597229004 Accuracy: 20.170000076293945\n",
            "Iteration: 200000 Loss: 2.3933582305908203 Accuracy: 20.229999542236328\n",
            "Iteration: 250000 Loss: 2.3865456581115723 Accuracy: 26.51999855041504\n",
            "Iteration: 300000 Loss: 2.359738349914551 Accuracy: 27.03999900817871\n",
            "Iteration: 350000 Loss: 2.3356213569641113 Accuracy: 25.489999771118164\n",
            "Iteration: 400000 Loss: 2.3231022357940674 Accuracy: 25.67999839782715\n",
            "Iteration: 450000 Loss: 2.3124518394470215 Accuracy: 25.760000228881836\n",
            "Iteration: 500000 Loss: 2.3025851249694824 Accuracy: 25.59000015258789\n",
            "done\n"
          ]
        }
      ],
      "source": [
        "from torch.autograd import Variable\n",
        "\n",
        "\n",
        "class LinearClassifier(torch.nn.Module):\n",
        "    def __init__(self, input_dim = 3*(32*32), output_dim = 10, bias =False):\n",
        "      super(LinearClassifier, self).__init__()\n",
        "      self.net = torch.nn.Sequential(\n",
        "          torch.nn.Linear(input_dim, output_dim),\n",
        "          torch.nn.ReLU(inplace = True))\n",
        "\n",
        "\n",
        "    def forward(self, x):\n",
        "      x = torch.flatten(x, 1)\n",
        "      outputs = self.net(x)\n",
        "      return outputs\n",
        "\n",
        "\n",
        "  \n",
        "\n",
        "\n",
        "device = 'cuda' if torch.cuda.is_available() else 'cpu'\n",
        "\n",
        "model = LinearClassifier()\n",
        "model.to(device)\n",
        "\n",
        "criterion = torch.nn.CrossEntropyLoss()\n",
        "optimizer = torch.optim.SGD(model.parameters(), lr=0.001)\n",
        "\n",
        "\n",
        "\n",
        "\n",
        "losses = []\n",
        "test_accuracy = []\n",
        "train_t_accuracy = []\n",
        "train = {}\n",
        "iter = 0\n",
        "print(len(train_data))\n",
        "for epoch in range(10):\n",
        "  t_correct = 0\n",
        "  t_total = 0\n",
        "  for d in train_data:\n",
        "    output = model(d[0].to(device))\n",
        "    optimizer.zero_grad()\n",
        "    label = d[1].to(device)\n",
        "    loss = criterion(output, label)\n",
        "\n",
        "    loss.backward()\n",
        "\n",
        "    optimizer.step()\n",
        "    iter+=1\n",
        "\n",
        "    _, t_predicted = torch.max(output.data, 1)\n",
        "    t_total += label.size(0)  \n",
        "    t_correct += (t_predicted == label).sum()\n",
        "\n",
        "\n",
        "    if iter % 50000 == 0: \n",
        "      losses.append(loss.item())\n",
        "\n",
        "\n",
        "      correct = 0\n",
        "      total = 0\n",
        "      for images, labels in test_data:\n",
        "        images = images.to(device)\n",
        "        labels = labels.to(device)\n",
        "        outputs = model(images)\n",
        "        _, predicted = torch.max(outputs.data, 1)\n",
        "        total += labels.size(0)\n",
        "        #print(labels.size())\n",
        "        #print(total)\n",
        "        correct += (predicted == labels).sum()\n",
        "\n",
        "      accuracy = 100 * correct/total\n",
        "      test_accuracy.append(accuracy)\n",
        "      print(\"Iteration:\", iter, \"Loss:\", loss.item(), \"Accuracy:\", accuracy.item())\n",
        "\n",
        "  train_accuracy = 100 * t_correct/t_total\n",
        "  train_t_accuracy.append(train_accuracy)\n",
        "\n",
        "\n",
        "\n",
        "    #optimizer.zero_grad()\n",
        "\n",
        "\n",
        "print(\"done\")\n",
        "\n",
        "\n",
        "#https://www.youtube.com/watch?v=TXLLjE3ae58&ab_channel=datahacker.rs\n",
        "#https://towardsdatascience.com/logistic-regression-on-mnist-with-pytorch-b048327f8d19"
      ]
    },
    {
      "cell_type": "markdown",
      "metadata": {
        "id": "BaR1VwhZAST_"
      },
      "source": [
        "The code, as expected, only got to a 25% accuuracy. Below we can see the test and the training accuracy plotted together. Additionally, it took 15 minutes to complete."
      ]
    },
    {
      "cell_type": "code",
      "execution_count": null,
      "metadata": {
        "colab": {
          "base_uri": "https://localhost:8080/",
          "height": 334
        },
        "id": "A9XuMC-DcdZ9",
        "outputId": "42740bb9-ef8e-49dd-c53d-e786be01ab4c"
      },
      "outputs": [
        {
          "name": "stdout",
          "output_type": "stream",
          "text": [
            "tensor(25.5900, device='cuda:0')\n",
            "tensor(26.8720, device='cuda:0')\n",
            "10\n",
            "10\n"
          ]
        },
        {
          "data": {
            "image/png": "[encoded data removed]",
            "text/plain": [
              "<Figure size 432x288 with 1 Axes>"
            ]
          },
          "metadata": {},
          "output_type": "display_data"
        }
      ],
      "source": [
        "t = []\n",
        "\n",
        "#torch.Tensor.cpu(test_accuracy)\n",
        "for i in test_accuracy:\n",
        "\n",
        "  t += [torch.Tensor.cpu(i)]\n",
        "\n",
        "tt = []\n",
        "for i in train_t_accuracy:\n",
        "  tt += [torch.Tensor.cpu(i)]\n",
        "\n",
        "plt.plot(tt, label = \"training\")\n",
        "plt.plot(t, label = \"test\")\n",
        "\n",
        "plt.legend()\n",
        "plt.ylabel(\"accuracy percentages\")\n",
        "\n",
        "print(test_accuracy[-1])\n",
        "print(train_t_accuracy[-1])\n",
        "print(len(train_t_accuracy))\n",
        "print(len(test_accuracy))\n"
      ]
    },
    {
      "cell_type": "markdown",
      "metadata": {
        "id": "YBHqe81_Apdh"
      },
      "source": [
        "Here is the loss of the linear regression model calculated through cross entropy:"
      ]
    },
    {
      "cell_type": "code",
      "execution_count": null,
      "metadata": {
        "colab": {
          "base_uri": "https://localhost:8080/",
          "height": 317
        },
        "id": "nKUKMaqA1XmV",
        "outputId": "aa126451-9c99-48b5-f2a0-d4bedda40953"
      },
      "outputs": [
        {
          "name": "stdout",
          "output_type": "stream",
          "text": [
            "<class 'float'>\n",
            "<class 'list'>\n"
          ]
        },
        {
          "data": {
            "text/plain": [
              "Text(0, 0.5, 'loss')"
            ]
          },
          "execution_count": 12,
          "metadata": {},
          "output_type": "execute_result"
        },
        {
          "data": {
            "image/png": "[encoded data removed]",
            "text/plain": [
              "<Figure size 432x288 with 1 Axes>"
            ]
          },
          "metadata": {},
          "output_type": "display_data"
        }
      ],
      "source": [
        "print(type(losses[1]))\n",
        "print(type(losses))\n",
        "plt.plot(losses)\n",
        "\n",
        "plt.ylabel(\"loss\")"
      ]
    },
    {
      "cell_type": "markdown",
      "metadata": {
        "id": "KPnG7xg0N81F"
      },
      "source": [
        "Here is the same linear regression classifier, but \n",
        "this time with multipe layers, and bias as well. Since there are more layers we expect the accuracy to increase. Let's see if that actually happens."
      ]
    },
    {
      "cell_type": "code",
      "execution_count": null,
      "metadata": {
        "colab": {
          "base_uri": "https://localhost:8080/"
        },
        "id": "eIYbNjEGN1iQ",
        "outputId": "9169363d-9830-4d4d-d99d-0bca44a557ee"
      },
      "outputs": [
        {
          "name": "stdout",
          "output_type": "stream",
          "text": [
            "50000\n",
            "Iteration: 50000 Loss: 2.749105215072632 Accuracy: 32.45000076293945\n",
            "Iteration: 100000 Loss: 2.6507480144500732 Accuracy: 41.30999755859375\n",
            "Iteration: 150000 Loss: 2.579488754272461 Accuracy: 43.84000015258789\n",
            "Iteration: 200000 Loss: 2.5475056171417236 Accuracy: 45.279998779296875\n",
            "Iteration: 250000 Loss: 2.5377724170684814 Accuracy: 46.87999725341797\n",
            "Iteration: 300000 Loss: 2.391055107116699 Accuracy: 47.80999755859375\n",
            "Iteration: 350000 Loss: 2.606766939163208 Accuracy: 48.78999710083008\n",
            "done\n"
          ]
        }
      ],
      "source": [
        "class LinearClassifier(torch.nn.Module):\n",
        "    def __init__(self, input_dim = 3*(32*32), hidden_dim = 1024, output_dim = 10):\n",
        "      super(LinearClassifier, self).__init__()\n",
        "      self.net = torch.nn.Sequential(\n",
        "          torch.nn.Linear(input_dim, hidden_dim),\n",
        "          torch.nn.ReLU(inplace = True),\n",
        "          torch.nn.Linear(hidden_dim, hidden_dim),\n",
        "          torch.nn.ReLU(inplace = True),\n",
        "          torch.nn.Linear(hidden_dim, output_dim),\n",
        "          torch.nn.ReLU(inplace = True))\n",
        "      \n",
        "    def forward(self, x):\n",
        "      x = torch.flatten(x,1)\n",
        "      outputs = self.net(x)\n",
        "      return outputs\n",
        "\n",
        "\n",
        "device = 'cuda' if torch.cuda.is_available() else 'cpu'\n",
        "\n",
        "\n",
        "\n",
        "\n",
        "\n",
        "model = LinearClassifier()\n",
        "model = model.to(device)\n",
        "\n",
        "criterion = torch.nn.CrossEntropyLoss()\n",
        "optimizer = torch.optim.SGD(model.parameters(), lr=0.001)\n",
        "\n",
        "\n",
        "\n",
        "\n",
        "\n",
        "losses = []\n",
        "test_accuracy = []\n",
        "train_t_accuracy = []\n",
        "train = {}\n",
        "iter = 0\n",
        "print(len(train_data))\n",
        "for epoch in range(7):\n",
        "  t_correct = 0\n",
        "  t_total = 0\n",
        "  for d in train_data:\n",
        "    output = model(d[0].to(device))\n",
        "    optimizer.zero_grad()\n",
        "    label = d[1].to(device)\n",
        "    loss = criterion(output, label)\n",
        "\n",
        "    loss.backward()\n",
        "\n",
        "    optimizer.step()\n",
        "    iter+=1\n",
        "\n",
        "    _, t_predicted = torch.max(output.data, 1)\n",
        "    t_total += label.size(0)  \n",
        "    t_correct += (t_predicted == label).sum()\n",
        "    \n",
        "\n",
        "    if iter % 50000 == 0: \n",
        "      losses.append(loss.item())\n",
        "\n",
        "      correct = 0\n",
        "      total = 0\n",
        "      for images, labels in test_data:\n",
        "        images = images.to(device)\n",
        "        labels = labels.to(device)\n",
        "        outputs = model(images)\n",
        "        _, predicted = torch.max(outputs.data, 1)\n",
        "        total += labels.size(0)\n",
        "        #print(labels.size())\n",
        "        #print(total)\n",
        "        correct += (predicted == labels).sum()\n",
        "\n",
        "      accuracy = 100 * correct/total\n",
        "      test_accuracy.append(accuracy)\n",
        "      print(\"Iteration:\", iter, \"Loss:\", loss.item(), \"Accuracy:\", accuracy.item())\n",
        "\n",
        "  train_accuracy = 100 * t_correct/t_total\n",
        "  train_t_accuracy.append(train_accuracy)\n",
        "\n",
        "\n",
        "\n",
        "    #optimizer.zero_grad()\n",
        "\n",
        "\n",
        "print(\"done\")\n"
      ]
    },
    {
      "cell_type": "markdown",
      "metadata": {
        "id": "0jh1x6_gpxKR"
      },
      "source": [
        "Since there are more layers it did get a better accuracy, this time it was 49% right on the test data. However it did take much longer, this took 17 minutes, but I only did 7 epochs instead of 10 for the single layer model."
      ]
    },
    {
      "cell_type": "code",
      "execution_count": null,
      "metadata": {
        "colab": {
          "base_uri": "https://localhost:8080/",
          "height": 334
        },
        "id": "T_OuBr7bOMia",
        "outputId": "1fa8cb95-1d83-4aea-82f0-2498b5c55789"
      },
      "outputs": [
        {
          "name": "stdout",
          "output_type": "stream",
          "text": [
            "tensor(48.7900, device='cuda:0')\n",
            "tensor(50.1100, device='cuda:0')\n",
            "7\n",
            "7\n"
          ]
        },
        {
          "data": {
            "image/png": "[encoded data removed]",
            "text/plain": [
              "<Figure size 432x288 with 1 Axes>"
            ]
          },
          "metadata": {},
          "output_type": "display_data"
        }
      ],
      "source": [
        "t = []\n",
        "\n",
        "#torch.Tensor.cpu(test_accuracy)\n",
        "for i in test_accuracy:\n",
        "\n",
        "  t += [torch.Tensor.cpu(i)]\n",
        "\n",
        "tt = []\n",
        "for i in train_t_accuracy:\n",
        "  tt += [torch.Tensor.cpu(i)]\n",
        "\n",
        "plt.plot(tt, label = \"training\")\n",
        "plt.plot(t, label = \"test\")\n",
        "\n",
        "plt.legend()\n",
        "plt.ylabel(\"accuracy percentages\")\n",
        "\n",
        "print(test_accuracy[-1])\n",
        "print(train_t_accuracy[-1])\n",
        "print(len(train_t_accuracy))\n",
        "print(len(test_accuracy))"
      ]
    },
    {
      "cell_type": "markdown",
      "metadata": {
        "id": "-jg5goUHd8BQ"
      },
      "source": [
        "The accuracy of this linear model is MUCH better that the linear model with only one layer. "
      ]
    },
    {
      "cell_type": "code",
      "execution_count": null,
      "metadata": {
        "colab": {
          "base_uri": "https://localhost:8080/",
          "height": 282
        },
        "id": "HcU9BvO5ONv_",
        "outputId": "5bf72648-fc75-44b5-ffc5-00af11b04aab"
      },
      "outputs": [
        {
          "data": {
            "text/plain": [
              "Text(0, 0.5, 'loss')"
            ]
          },
          "execution_count": 17,
          "metadata": {},
          "output_type": "execute_result"
        },
        {
          "data": {
            "image/png": "[encoded data removed]",
            "text/plain": [
              "<Figure size 432x288 with 1 Axes>"
            ]
          },
          "metadata": {},
          "output_type": "display_data"
        }
      ],
      "source": [
        "plt.plot(losses)\n",
        "\n",
        "plt.ylabel(\"loss\")"
      ]
    },
    {
      "cell_type": "markdown",
      "metadata": {
        "id": "BeYxaeSpk-Fm"
      },
      "source": [
        "The loss got realy weird after 7 epochs which is why is why I stopped where I did. Now lets look at what happens with multiple layers and Softmax - or GELU instead of ReLU. This is the exact same as the one we just did previously, so we will be able to directly compare the differences. "
      ]
    },
    {
      "cell_type": "code",
      "execution_count": null,
      "metadata": {
        "colab": {
          "base_uri": "https://localhost:8080/"
        },
        "id": "FhGrEQlvl6-c",
        "outputId": "13674e95-6d19-45b3-cf51-f2c37875373a"
      },
      "outputs": [
        {
          "name": "stdout",
          "output_type": "stream",
          "text": [
            "50000\n",
            "Iteration: 50000 Loss: 2.81643009185791 Accuracy: 37.87999725341797\n",
            "Iteration: 100000 Loss: 2.934156894683838 Accuracy: 41.959999084472656\n",
            "Iteration: 150000 Loss: 2.876586437225342 Accuracy: 44.34000015258789\n",
            "Iteration: 200000 Loss: 2.9105682373046875 Accuracy: 46.0099983215332\n",
            "Iteration: 250000 Loss: 3.149080276489258 Accuracy: 46.849998474121094\n",
            "Iteration: 300000 Loss: 3.516268730163574 Accuracy: 47.80999755859375\n",
            "Iteration: 350000 Loss: 3.912964344024658 Accuracy: 48.36000061035156\n",
            "done\n"
          ]
        }
      ],
      "source": [
        "import torchvision.models as models\n",
        "\n",
        "\n",
        "\n",
        "class LinearClassifier(torch.nn.Module):\n",
        "    def __init__(self, input_dim = 3*(32*32), hidden_dim = 1024, output_dim = 10):\n",
        "      super(LinearClassifier, self).__init__()\n",
        "      self.net = torch.nn.Sequential(\n",
        "          torch.nn.Linear(input_dim, hidden_dim),\n",
        "          torch.nn.GELU(),\n",
        "          torch.nn.Linear(hidden_dim, hidden_dim),\n",
        "          torch.nn.GELU(),\n",
        "          torch.nn.Linear(hidden_dim, output_dim),\n",
        "          torch.nn.GELU())\n",
        "\n",
        "    def forward(self, x):\n",
        "      x = torch.flatten(x,1)\n",
        "      outputs = self.net(x)\n",
        "      return outputs\n",
        "\n",
        "\n",
        "device = 'cuda' if torch.cuda.is_available() else 'cpu'\n",
        "\n",
        "model = LinearClassifier()\n",
        "model.to(device)\n",
        "\n",
        "criterion = torch.nn.CrossEntropyLoss()\n",
        "optimizer = torch.optim.SGD(model.parameters(), lr=0.001)\n",
        "\n",
        "\n",
        "\n",
        "\n",
        "\n",
        "losses = []\n",
        "test_accuracy = []\n",
        "train_t_accuracy = []\n",
        "train = {}\n",
        "iter = 0\n",
        "print(len(train_data))\n",
        "for epoch in range(7):\n",
        "  t_correct = 0\n",
        "  t_total = 0\n",
        "  for d in train_data:\n",
        "    output = model(d[0].to(device))\n",
        "    optimizer.zero_grad()\n",
        "    label = d[1].to(device)\n",
        "    loss = criterion(output, label)\n",
        "\n",
        "    loss.backward()\n",
        "\n",
        "    optimizer.step()\n",
        "    iter+=1\n",
        "\n",
        "    _, t_predicted = torch.max(output.data, 1)\n",
        "    t_total += label.size(0)  \n",
        "    t_correct += (t_predicted == label).sum()\n",
        "\n",
        "    if iter % 50000 == 0: \n",
        "      losses.append(loss.item())\n",
        "\n",
        "      correct = 0\n",
        "      total = 0\n",
        "      for images, labels in test_data:\n",
        "        images = images.to(device)\n",
        "        labels = labels.to(device)\n",
        "        outputs = model(images)\n",
        "        _, predicted = torch.max(outputs.data, 1)\n",
        "        total += labels.size(0)\n",
        "        #print(labels.size())\n",
        "        #print(total)\n",
        "        correct += (predicted == labels).sum()\n",
        "\n",
        "      accuracy = 100 * correct/total\n",
        "      test_accuracy.append(accuracy)\n",
        "      print(\"Iteration:\", iter, \"Loss:\", loss.item(), \"Accuracy:\", accuracy.item())\n",
        "\n",
        "  train_accuracy = 100 * t_correct/t_total\n",
        "  train_t_accuracy.append(train_accuracy)\n",
        "\n",
        "\n",
        "\n",
        "    #optimizer.zero_grad()\n",
        "\n",
        "\n",
        "print(\"done\")\n"
      ]
    },
    {
      "cell_type": "markdown",
      "metadata": {
        "id": "9NPcIezNBhUb"
      },
      "source": [
        "The softmax model also took 17 minutes and did a tiny bit worse than the previous model. This time we got an accuracy of 48%. Here is the accuracy for the softmax model:\n",
        "\n",
        "\n",
        "  "
      ]
    },
    {
      "cell_type": "code",
      "execution_count": null,
      "metadata": {
        "colab": {
          "base_uri": "https://localhost:8080/",
          "height": 334
        },
        "id": "kRBJ4fsoBev1",
        "outputId": "1aa3524d-ae8e-4469-e9cf-cf9b2d8ece53"
      },
      "outputs": [
        {
          "name": "stdout",
          "output_type": "stream",
          "text": [
            "tensor(48.3600, device='cuda:0')\n",
            "tensor(49.4980, device='cuda:0')\n",
            "7\n",
            "7\n"
          ]
        },
        {
          "data": {
            "image/png": "[encoded data removed]",
            "text/plain": [
              "<Figure size 432x288 with 1 Axes>"
            ]
          },
          "metadata": {},
          "output_type": "display_data"
        }
      ],
      "source": [
        "t = []\n",
        "\n",
        "#torch.Tensor.cpu(test_accuracy)\n",
        "for i in test_accuracy:\n",
        "\n",
        "  t += [torch.Tensor.cpu(i)]\n",
        "\n",
        "tt = []\n",
        "for i in train_t_accuracy:\n",
        "  tt += [torch.Tensor.cpu(i)]\n",
        "\n",
        "plt.plot(tt, label = \"training\")\n",
        "plt.plot(t, label = \"test\")\n",
        "\n",
        "plt.legend()\n",
        "plt.ylabel(\"accuracy percentages\")\n",
        "\n",
        "print(test_accuracy[-1])\n",
        "print(train_t_accuracy[-1])\n",
        "print(len(train_t_accuracy))\n",
        "print(len(test_accuracy))"
      ]
    },
    {
      "cell_type": "markdown",
      "metadata": {
        "id": "ZU4ITeNrBstl"
      },
      "source": [
        "The accuracy graph looks pretty much the exact same as the last graph."
      ]
    },
    {
      "cell_type": "code",
      "execution_count": null,
      "metadata": {
        "colab": {
          "base_uri": "https://localhost:8080/",
          "height": 282
        },
        "id": "1GJJdu3GBTyR",
        "outputId": "e618d73e-1af5-4241-e238-c07ad3899519"
      },
      "outputs": [
        {
          "data": {
            "text/plain": [
              "Text(0, 0.5, 'loss')"
            ]
          },
          "execution_count": 24,
          "metadata": {},
          "output_type": "execute_result"
        },
        {
          "data": {
            "image/png": "[encoded data removed]",
            "text/plain": [
              "<Figure size 432x288 with 1 Axes>"
            ]
          },
          "metadata": {},
          "output_type": "display_data"
        }
      ],
      "source": [
        "plt.plot(losses)\n",
        "\n",
        "plt.ylabel(\"loss\")"
      ]
    },
    {
      "cell_type": "markdown",
      "metadata": {
        "id": "n-oTY1OyJlfF"
      },
      "source": [
        "The loss started increasing much earlier than the other models did. So using GELU instead of RELU is not a good plan in this specific scenario. "
      ]
    },
    {
      "cell_type": "markdown",
      "metadata": {
        "id": "Fs0i1R2mHNHX"
      },
      "source": [
        "\n",
        "\n",
        "\n",
        "\n",
        "\n",
        "# Convolutional Classifiers:\n",
        "\n",
        "\n",
        "Lets start with loading in the dataset and transforming them in a useful way for the CNNs that we will be using in this section.\n",
        "\n",
        "\n"
      ]
    },
    {
      "cell_type": "code",
      "execution_count": null,
      "metadata": {
        "colab": {
          "base_uri": "https://localhost:8080/"
        },
        "id": "jzJV6DxOejAj",
        "outputId": "2f7ae88f-1dd0-4049-df70-ffbcfbaade38"
      },
      "outputs": [
        {
          "name": "stdout",
          "output_type": "stream",
          "text": [
            "Files already downloaded and verified\n",
            "Files already downloaded and verified\n"
          ]
        }
      ],
      "source": [
        "import torchvision.models as models\n",
        "\n",
        "transform = T.Compose( [\n",
        "    T.ToTensor(),\n",
        "    #T.CenterCrop(10),\n",
        "    #T.ColorJitter(brightness = .5),\n",
        "    T.Normalize(\n",
        "        (0.4914, 0.4822, 0.4465),\n",
        "        (0.2023, 0.1994, 0.2010)) ]\n",
        "    )\n",
        "  \n",
        "\n",
        "\n",
        "c_cifar_dataset = datasets.CIFAR10(root = './',\n",
        "                         train = True,\n",
        "                         download=True,\n",
        "                         transform = transform\n",
        "                         )\n",
        "\n",
        "c_train_data = DataLoader(c_cifar_dataset, batch_size = 100, ) #shuffle = True\n",
        "\n",
        "c_test_set  = datasets.CIFAR10(root='./',\n",
        "                           train = False,\n",
        "                           download = True,\n",
        "                           transform = transform, )\n",
        "\n",
        "c_test_data = DataLoader(c_test_set, batch_size = 100, shuffle = True,)"
      ]
    },
    {
      "cell_type": "markdown",
      "metadata": {
        "id": "SFDRIpu09cC5"
      },
      "source": [
        "With the basics out of the way we will now build our own Convolutional Nueral Network and train it. For this I am basing it on LeNet, however LeNet was originally made for black and white images, so I needed to modify it a bit to make it work for the 3 channels (red, green and blue) that CIFAR10 utilizes."
      ]
    },
    {
      "cell_type": "code",
      "execution_count": null,
      "metadata": {
        "colab": {
          "base_uri": "https://localhost:8080/"
        },
        "id": "YhhpavfCKgyD",
        "outputId": "c272517a-0e77-412e-816b-ac46de0786bf"
      },
      "outputs": [
        {
          "name": "stdout",
          "output_type": "stream",
          "text": [
            "Iteration: 500 Loss: 2.3084185123443604 Accuracy: 10.029999732971191\n",
            "Iteration: 1000 Loss: 2.306023597717285 Accuracy: 11.09000015258789\n",
            "Iteration: 1500 Loss: 2.3033437728881836 Accuracy: 12.299999237060547\n",
            "Iteration: 2000 Loss: 2.3001248836517334 Accuracy: 13.170000076293945\n",
            "Iteration: 2500 Loss: 2.295949697494507 Accuracy: 13.839999198913574\n",
            "Iteration: 3000 Loss: 2.2900753021240234 Accuracy: 14.579999923706055\n",
            "Iteration: 3500 Loss: 2.280712604522705 Accuracy: 15.859999656677246\n",
            "Iteration: 4000 Loss: 2.2651381492614746 Accuracy: 18.689998626708984\n",
            "Iteration: 4500 Loss: 2.239427089691162 Accuracy: 20.579999923706055\n",
            "Iteration: 5000 Loss: 2.203592300415039 Accuracy: 21.85999870300293\n",
            "Iteration: 5500 Loss: 2.1663506031036377 Accuracy: 22.849998474121094\n",
            "Iteration: 6000 Loss: 2.1369948387145996 Accuracy: 24.059999465942383\n",
            "Iteration: 6500 Loss: 2.1194891929626465 Accuracy: 24.979999542236328\n",
            "Iteration: 7000 Loss: 2.1086268424987793 Accuracy: 25.920000076293945\n",
            "Iteration: 7500 Loss: 2.0988199710845947 Accuracy: 26.619998931884766\n",
            "Iteration: 8000 Loss: 2.0886411666870117 Accuracy: 27.420000076293945\n",
            "Iteration: 8500 Loss: 2.0780189037323 Accuracy: 28.139999389648438\n",
            "Iteration: 9000 Loss: 2.066516160964966 Accuracy: 28.8799991607666\n",
            "Iteration: 9500 Loss: 2.0541841983795166 Accuracy: 29.479999542236328\n",
            "Iteration: 10000 Loss: 2.0423519611358643 Accuracy: 30.239999771118164\n",
            "Iteration: 10500 Loss: 2.030540704727173 Accuracy: 30.75\n",
            "Iteration: 11000 Loss: 2.0184831619262695 Accuracy: 31.219999313354492\n",
            "Iteration: 11500 Loss: 2.0050759315490723 Accuracy: 31.639999389648438\n",
            "Iteration: 12000 Loss: 1.9920315742492676 Accuracy: 32.31999969482422\n",
            "Iteration: 12500 Loss: 1.97951078414917 Accuracy: 32.80999755859375\n",
            "Iteration: 13000 Loss: 1.9660006761550903 Accuracy: 33.37999725341797\n",
            "Iteration: 13500 Loss: 1.9522294998168945 Accuracy: 33.91999816894531\n",
            "Iteration: 14000 Loss: 1.9405709505081177 Accuracy: 34.34000015258789\n",
            "Iteration: 14500 Loss: 1.931402325630188 Accuracy: 34.72999954223633\n",
            "Iteration: 15000 Loss: 1.9234615564346313 Accuracy: 34.88999938964844\n",
            "Iteration: 15500 Loss: 1.9155024290084839 Accuracy: 35.25\n",
            "Iteration: 16000 Loss: 1.9076718091964722 Accuracy: 35.72999954223633\n",
            "Iteration: 16500 Loss: 1.899450421333313 Accuracy: 36.30999755859375\n",
            "Iteration: 17000 Loss: 1.8907498121261597 Accuracy: 36.790000915527344\n",
            "Iteration: 17500 Loss: 1.8813530206680298 Accuracy: 37.15999984741211\n",
            "Iteration: 18000 Loss: 1.872239351272583 Accuracy: 37.61000061035156\n",
            "Iteration: 18500 Loss: 1.8632879257202148 Accuracy: 38.11000061035156\n",
            "Iteration: 19000 Loss: 1.8540371656417847 Accuracy: 38.52000045776367\n",
            "Iteration: 19500 Loss: 1.845177173614502 Accuracy: 38.88999938964844\n",
            "Iteration: 20000 Loss: 1.8353300094604492 Accuracy: 39.36000061035156\n",
            "Iteration: 20500 Loss: 1.8264728784561157 Accuracy: 39.62999725341797\n",
            "Iteration: 21000 Loss: 1.8176134824752808 Accuracy: 40.0099983215332\n",
            "Iteration: 21500 Loss: 1.8093549013137817 Accuracy: 40.36000061035156\n",
            "Iteration: 22000 Loss: 1.8019800186157227 Accuracy: 40.82999801635742\n",
            "Iteration: 22500 Loss: 1.7954808473587036 Accuracy: 41.03999710083008\n",
            "Iteration: 23000 Loss: 1.789399266242981 Accuracy: 41.39999771118164\n",
            "Iteration: 23500 Loss: 1.7824182510375977 Accuracy: 41.75\n",
            "Iteration: 24000 Loss: 1.7762091159820557 Accuracy: 41.96999740600586\n",
            "Iteration: 24500 Loss: 1.7688847780227661 Accuracy: 42.209999084472656\n",
            "Iteration: 25000 Loss: 1.7621591091156006 Accuracy: 42.40999984741211\n",
            "Iteration: 25500 Loss: 1.7545928955078125 Accuracy: 42.80999755859375\n",
            "Iteration: 26000 Loss: 1.7467503547668457 Accuracy: 43.16999816894531\n",
            "Iteration: 26500 Loss: 1.7391940355300903 Accuracy: 43.40999984741211\n",
            "Iteration: 27000 Loss: 1.7309820652008057 Accuracy: 43.869998931884766\n",
            "Iteration: 27500 Loss: 1.7222949266433716 Accuracy: 44.04999923706055\n",
            "Iteration: 28000 Loss: 1.7130810022354126 Accuracy: 44.37999725341797\n",
            "Iteration: 28500 Loss: 1.7038780450820923 Accuracy: 44.5099983215332\n",
            "Iteration: 29000 Loss: 1.6934404373168945 Accuracy: 44.73999786376953\n",
            "Iteration: 29500 Loss: 1.6838908195495605 Accuracy: 45.0099983215332\n",
            "Iteration: 30000 Loss: 1.6744427680969238 Accuracy: 45.5099983215332\n",
            "Iteration: 30500 Loss: 1.663515329360962 Accuracy: 45.72999954223633\n",
            "Iteration: 31000 Loss: 1.6525356769561768 Accuracy: 46.04999923706055\n",
            "Iteration: 31500 Loss: 1.6423038244247437 Accuracy: 46.279998779296875\n",
            "Iteration: 32000 Loss: 1.6320550441741943 Accuracy: 46.43000030517578\n",
            "Iteration: 32500 Loss: 1.6216795444488525 Accuracy: 46.529998779296875\n",
            "Iteration: 33000 Loss: 1.6115024089813232 Accuracy: 46.779998779296875\n",
            "Iteration: 33500 Loss: 1.6016104221343994 Accuracy: 46.97999954223633\n",
            "Iteration: 34000 Loss: 1.5924675464630127 Accuracy: 47.14999771118164\n",
            "Iteration: 34500 Loss: 1.5826289653778076 Accuracy: 47.32999801635742\n",
            "Iteration: 35000 Loss: 1.5747289657592773 Accuracy: 47.61000061035156\n",
            "Iteration: 35500 Loss: 1.567113995552063 Accuracy: 47.80999755859375\n",
            "Iteration: 36000 Loss: 1.5591968297958374 Accuracy: 47.90999984741211\n",
            "Iteration: 36500 Loss: 1.552934169769287 Accuracy: 48.0\n",
            "Iteration: 37000 Loss: 1.5465631484985352 Accuracy: 48.09000015258789\n",
            "Iteration: 37500 Loss: 1.5409191846847534 Accuracy: 48.29999923706055\n",
            "Iteration: 38000 Loss: 1.535943627357483 Accuracy: 48.55999755859375\n",
            "Iteration: 38500 Loss: 1.5308417081832886 Accuracy: 48.54999923706055\n",
            "Iteration: 39000 Loss: 1.5268051624298096 Accuracy: 48.709999084472656\n",
            "Iteration: 39500 Loss: 1.5217214822769165 Accuracy: 48.87999725341797\n",
            "Iteration: 40000 Loss: 1.5150829553604126 Accuracy: 49.02000045776367\n",
            "Iteration: 40500 Loss: 1.51007080078125 Accuracy: 49.19999694824219\n",
            "Iteration: 41000 Loss: 1.5055423974990845 Accuracy: 49.28999710083008\n",
            "Iteration: 41500 Loss: 1.5016894340515137 Accuracy: 49.39999771118164\n",
            "Iteration: 42000 Loss: 1.4971257448196411 Accuracy: 49.529998779296875\n",
            "Iteration: 42500 Loss: 1.493337869644165 Accuracy: 49.81999969482422\n",
            "Iteration: 43000 Loss: 1.489844799041748 Accuracy: 50.029998779296875\n",
            "Iteration: 43500 Loss: 1.4867173433303833 Accuracy: 50.19999694824219\n",
            "Iteration: 44000 Loss: 1.4845819473266602 Accuracy: 50.28999710083008\n",
            "Iteration: 44500 Loss: 1.4811296463012695 Accuracy: 50.32999801635742\n",
            "Iteration: 45000 Loss: 1.4766654968261719 Accuracy: 50.59000015258789\n",
            "Iteration: 45500 Loss: 1.473215937614441 Accuracy: 50.689998626708984\n",
            "Iteration: 46000 Loss: 1.4699457883834839 Accuracy: 50.71999740600586\n",
            "Iteration: 46500 Loss: 1.4652284383773804 Accuracy: 50.78999710083008\n",
            "Iteration: 47000 Loss: 1.461705207824707 Accuracy: 50.939998626708984\n",
            "Iteration: 47500 Loss: 1.4593275785446167 Accuracy: 51.04999923706055\n",
            "Iteration: 48000 Loss: 1.4561488628387451 Accuracy: 51.21999740600586\n",
            "Iteration: 48500 Loss: 1.4525444507598877 Accuracy: 51.349998474121094\n",
            "Iteration: 49000 Loss: 1.4486042261123657 Accuracy: 51.46999740600586\n",
            "Iteration: 49500 Loss: 1.4451627731323242 Accuracy: 51.52000045776367\n",
            "Iteration: 50000 Loss: 1.4416232109069824 Accuracy: 51.62999725341797\n",
            "done\n"
          ]
        }
      ],
      "source": [
        "\n",
        "class Net(torch.nn.Module):\n",
        "    def __init__(self, ninputs=3*32*32, nhidden=1024, nout=10,):\n",
        "        super(Net, self).__init__()\n",
        "        self.cnn = torch.nn.Sequential(\n",
        "            torch.nn.Conv2d(3, 6, 5, stride = 1, padding=0),\n",
        "            torch.nn.ReLU(inplace = True),\n",
        "            torch.nn.AvgPool2d(2, stride = 2),\n",
        "            torch.nn.Conv2d(6, 16, 5, stride = 1, padding=0),\n",
        "            torch.nn.ReLU(inplace = True),\n",
        "            torch.nn.AvgPool2d(2, stride = 2),\n",
        "            torch.nn.Conv2d(16, 120, 5, stride = 1, padding=0),\n",
        "\n",
        "            torch.nn.ReLU(inplace = True),\n",
        "\n",
        "        )\n",
        "        self.lin = torch.nn.Sequential(\n",
        "            torch.nn.Linear(120, 84),\n",
        "            torch.nn.ReLU(inplace = True),\n",
        "            torch.nn.Linear(84, 10),\n",
        "            \n",
        "        )\n",
        "\n",
        "        \n",
        "    def forward(self, x):\n",
        "        #x = torch.flatten(x,1)\n",
        "        x = self.cnn(x)\n",
        "        x = torch.flatten(x,1)\n",
        "        x = self.lin(x)  \n",
        "      \n",
        "        return x\n",
        "\n",
        "\n",
        "device = torch.device('cuda:0' if torch.cuda.is_available() else 'cpu')\n",
        "\n",
        "model = Net().to(device)\n",
        "\n",
        "criterion = torch.nn.CrossEntropyLoss()\n",
        "optimizer = torch.optim.SGD(model.parameters(), lr=0.001)\n",
        "\n",
        "\n",
        "\n",
        "\n",
        "\n",
        "\n",
        "losses = []\n",
        "test_accuracy = []\n",
        "train_t_accuracy = []\n",
        "train = {}\n",
        "iter = 0\n",
        "for epoch in range(100):\n",
        "  t_correct = 0\n",
        "  t_total = 0\n",
        "  for d in c_train_data:\n",
        "    output = model(d[0].to(device))\n",
        "    optimizer.zero_grad()\n",
        "    label = d[1].to(device)\n",
        "    loss = criterion(output, label)\n",
        "\n",
        "    loss.backward()\n",
        "\n",
        "    optimizer.step()\n",
        "    iter+=1\n",
        "    _, t_predicted = torch.max(output.data, 1)\n",
        "    t_total += label.size(0)  \n",
        "    t_correct += (t_predicted == label).sum()\n",
        "\n",
        "    \n",
        "  \n",
        "   \n",
        "    if iter % 500 == 0: \n",
        "      losses.append(loss.item())\n",
        "\n",
        "      correct = 0\n",
        "      total = 0\n",
        "      for images, labels in c_test_data:\n",
        "        images = images.to(device)\n",
        "        labels = labels.to(device)\n",
        "        outputs = model(images)\n",
        "        _, predicted = torch.max(outputs.data, 1)\n",
        "        total += labels.size(0)\n",
        "        correct += (predicted == labels).sum()\n",
        "\n",
        "      accuracy = 100 * correct/total\n",
        "      test_accuracy.append(accuracy)\n",
        "      print(\"Iteration:\", iter, \"Loss:\", loss.item(), \"Accuracy:\", accuracy.item())\n",
        "\n",
        "  train_accuracy = 100 * t_correct/t_total\n",
        "  train_t_accuracy.append(train_accuracy)\n",
        "\n",
        "\n",
        "\n",
        "    #optimizer.zero_grad()\n",
        "\n",
        "\n",
        "print(\"done\")\n",
        "\n",
        "#https://medium.datadriveninvestor.com/architecture-implementation-of-lenet-from-scratch-in-pytorch-709cc38c00a9"
      ]
    },
    {
      "cell_type": "markdown",
      "metadata": {
        "id": "EDwj7zVAh228"
      },
      "source": [
        "We expect a CNN to do better than a linear classification model, as it is extremmly hard to differencitate an image solely linearly. This model took 45 minutes and got an end accuracy of 52%. Let's look at the accuracy of our nueral network graphed out:"
      ]
    },
    {
      "cell_type": "code",
      "execution_count": null,
      "metadata": {
        "colab": {
          "base_uri": "https://localhost:8080/",
          "height": 334
        },
        "id": "3ehZcdiTVUic",
        "outputId": "86af0bce-728d-4799-d482-cfbf9698c025"
      },
      "outputs": [
        {
          "name": "stdout",
          "output_type": "stream",
          "text": [
            "tensor(51.6300, device='cuda:0')\n",
            "tensor(52.5640, device='cuda:0')\n",
            "100\n",
            "100\n"
          ]
        },
        {
          "data": {
            "image/png": "[encoded data removed]",
            "text/plain": [
              "<Figure size 432x288 with 1 Axes>"
            ]
          },
          "metadata": {},
          "output_type": "display_data"
        }
      ],
      "source": [
        "t = []\n",
        "\n",
        "#torch.Tensor.cpu(test_accuracy)\n",
        "for i in test_accuracy:\n",
        "\n",
        "  t += [torch.Tensor.cpu(i)]\n",
        "\n",
        "tt = []\n",
        "for i in train_t_accuracy:\n",
        "  tt += [torch.Tensor.cpu(i)]\n",
        "\n",
        "plt.plot(tt, label = \"training\")\n",
        "plt.plot(t, label = \"test\")\n",
        "\n",
        "plt.legend()\n",
        "plt.ylabel(\"accuracy percentages\")\n",
        "\n",
        "print(test_accuracy[-1])\n",
        "print(train_t_accuracy[-1])\n",
        "print(len(train_t_accuracy))\n",
        "print(len(test_accuracy))"
      ]
    },
    {
      "cell_type": "markdown",
      "metadata": {
        "id": "4ScnSpiqh8lY"
      },
      "source": [
        "That looks much better than the majority of the the other sets in all honesty. Now lets look at the loss."
      ]
    },
    {
      "cell_type": "code",
      "execution_count": null,
      "metadata": {
        "colab": {
          "base_uri": "https://localhost:8080/",
          "height": 282
        },
        "id": "OUVLCOa4VVdo",
        "outputId": "3bb600e8-d6c7-487b-9285-2b1c0d493c30"
      },
      "outputs": [
        {
          "data": {
            "text/plain": [
              "Text(0, 0.5, 'loss')"
            ]
          },
          "execution_count": 33,
          "metadata": {},
          "output_type": "execute_result"
        },
        {
          "data": {
            "image/png": "[encoded data removed]",
            "text/plain": [
              "<Figure size 432x288 with 1 Axes>"
            ]
          },
          "metadata": {},
          "output_type": "display_data"
        }
      ],
      "source": [
        "plt.plot(losses)\n",
        "\n",
        "plt.ylabel(\"loss\")"
      ]
    },
    {
      "cell_type": "markdown",
      "metadata": {
        "id": "l1litlmi8KUr"
      },
      "source": [
        "From how the loss and acurracy look I think the training could go for more epochs. Now, let's use a built in model from pytorch this time to compare and contrast the accuracy and loss. We are going to use the ResNet18 model, that is untrained. "
      ]
    },
    {
      "cell_type": "code",
      "execution_count": null,
      "metadata": {
        "colab": {
          "base_uri": "https://localhost:8080/"
        },
        "id": "Oc4U2CjBzOdw",
        "outputId": "6d5cccc8-f548-4873-a8e6-b32535c3f89a"
      },
      "outputs": [
        {
          "name": "stdout",
          "output_type": "stream",
          "text": [
            "ResNet(\n",
            "  (conv1): Conv2d(3, 64, kernel_size=(7, 7), stride=(2, 2), padding=(3, 3), bias=False)\n",
            "  (bn1): BatchNorm2d(64, eps=1e-05, momentum=0.1, affine=True, track_running_stats=True)\n",
            "  (relu): ReLU(inplace=True)\n",
            "  (maxpool): MaxPool2d(kernel_size=3, stride=2, padding=1, dilation=1, ceil_mode=False)\n",
            "  (layer1): Sequential(\n",
            "    (0): BasicBlock(\n",
            "      (conv1): Conv2d(64, 64, kernel_size=(3, 3), stride=(1, 1), padding=(1, 1), bias=False)\n",
            "      (bn1): BatchNorm2d(64, eps=1e-05, momentum=0.1, affine=True, track_running_stats=True)\n",
            "      (relu): ReLU(inplace=True)\n",
            "      (conv2): Conv2d(64, 64, kernel_size=(3, 3), stride=(1, 1), padding=(1, 1), bias=False)\n",
            "      (bn2): BatchNorm2d(64, eps=1e-05, momentum=0.1, affine=True, track_running_stats=True)\n",
            "    )\n",
            "    (1): BasicBlock(\n",
            "      (conv1): Conv2d(64, 64, kernel_size=(3, 3), stride=(1, 1), padding=(1, 1), bias=False)\n",
            "      (bn1): BatchNorm2d(64, eps=1e-05, momentum=0.1, affine=True, track_running_stats=True)\n",
            "      (relu): ReLU(inplace=True)\n",
            "      (conv2): Conv2d(64, 64, kernel_size=(3, 3), stride=(1, 1), padding=(1, 1), bias=False)\n",
            "      (bn2): BatchNorm2d(64, eps=1e-05, momentum=0.1, affine=True, track_running_stats=True)\n",
            "    )\n",
            "  )\n",
            "  (layer2): Sequential(\n",
            "    (0): BasicBlock(\n",
            "      (conv1): Conv2d(64, 128, kernel_size=(3, 3), stride=(2, 2), padding=(1, 1), bias=False)\n",
            "      (bn1): BatchNorm2d(128, eps=1e-05, momentum=0.1, affine=True, track_running_stats=True)\n",
            "      (relu): ReLU(inplace=True)\n",
            "      (conv2): Conv2d(128, 128, kernel_size=(3, 3), stride=(1, 1), padding=(1, 1), bias=False)\n",
            "      (bn2): BatchNorm2d(128, eps=1e-05, momentum=0.1, affine=True, track_running_stats=True)\n",
            "      (downsample): Sequential(\n",
            "        (0): Conv2d(64, 128, kernel_size=(1, 1), stride=(2, 2), bias=False)\n",
            "        (1): BatchNorm2d(128, eps=1e-05, momentum=0.1, affine=True, track_running_stats=True)\n",
            "      )\n",
            "    )\n",
            "    (1): BasicBlock(\n",
            "      (conv1): Conv2d(128, 128, kernel_size=(3, 3), stride=(1, 1), padding=(1, 1), bias=False)\n",
            "      (bn1): BatchNorm2d(128, eps=1e-05, momentum=0.1, affine=True, track_running_stats=True)\n",
            "      (relu): ReLU(inplace=True)\n",
            "      (conv2): Conv2d(128, 128, kernel_size=(3, 3), stride=(1, 1), padding=(1, 1), bias=False)\n",
            "      (bn2): BatchNorm2d(128, eps=1e-05, momentum=0.1, affine=True, track_running_stats=True)\n",
            "    )\n",
            "  )\n",
            "  (layer3): Sequential(\n",
            "    (0): BasicBlock(\n",
            "      (conv1): Conv2d(128, 256, kernel_size=(3, 3), stride=(2, 2), padding=(1, 1), bias=False)\n",
            "      (bn1): BatchNorm2d(256, eps=1e-05, momentum=0.1, affine=True, track_running_stats=True)\n",
            "      (relu): ReLU(inplace=True)\n",
            "      (conv2): Conv2d(256, 256, kernel_size=(3, 3), stride=(1, 1), padding=(1, 1), bias=False)\n",
            "      (bn2): BatchNorm2d(256, eps=1e-05, momentum=0.1, affine=True, track_running_stats=True)\n",
            "      (downsample): Sequential(\n",
            "        (0): Conv2d(128, 256, kernel_size=(1, 1), stride=(2, 2), bias=False)\n",
            "        (1): BatchNorm2d(256, eps=1e-05, momentum=0.1, affine=True, track_running_stats=True)\n",
            "      )\n",
            "    )\n",
            "    (1): BasicBlock(\n",
            "      (conv1): Conv2d(256, 256, kernel_size=(3, 3), stride=(1, 1), padding=(1, 1), bias=False)\n",
            "      (bn1): BatchNorm2d(256, eps=1e-05, momentum=0.1, affine=True, track_running_stats=True)\n",
            "      (relu): ReLU(inplace=True)\n",
            "      (conv2): Conv2d(256, 256, kernel_size=(3, 3), stride=(1, 1), padding=(1, 1), bias=False)\n",
            "      (bn2): BatchNorm2d(256, eps=1e-05, momentum=0.1, affine=True, track_running_stats=True)\n",
            "    )\n",
            "  )\n",
            "  (layer4): Sequential(\n",
            "    (0): BasicBlock(\n",
            "      (conv1): Conv2d(256, 512, kernel_size=(3, 3), stride=(2, 2), padding=(1, 1), bias=False)\n",
            "      (bn1): BatchNorm2d(512, eps=1e-05, momentum=0.1, affine=True, track_running_stats=True)\n",
            "      (relu): ReLU(inplace=True)\n",
            "      (conv2): Conv2d(512, 512, kernel_size=(3, 3), stride=(1, 1), padding=(1, 1), bias=False)\n",
            "      (bn2): BatchNorm2d(512, eps=1e-05, momentum=0.1, affine=True, track_running_stats=True)\n",
            "      (downsample): Sequential(\n",
            "        (0): Conv2d(256, 512, kernel_size=(1, 1), stride=(2, 2), bias=False)\n",
            "        (1): BatchNorm2d(512, eps=1e-05, momentum=0.1, affine=True, track_running_stats=True)\n",
            "      )\n",
            "    )\n",
            "    (1): BasicBlock(\n",
            "      (conv1): Conv2d(512, 512, kernel_size=(3, 3), stride=(1, 1), padding=(1, 1), bias=False)\n",
            "      (bn1): BatchNorm2d(512, eps=1e-05, momentum=0.1, affine=True, track_running_stats=True)\n",
            "      (relu): ReLU(inplace=True)\n",
            "      (conv2): Conv2d(512, 512, kernel_size=(3, 3), stride=(1, 1), padding=(1, 1), bias=False)\n",
            "      (bn2): BatchNorm2d(512, eps=1e-05, momentum=0.1, affine=True, track_running_stats=True)\n",
            "    )\n",
            "  )\n",
            "  (avgpool): AdaptiveAvgPool2d(output_size=(1, 1))\n",
            "  (fc): Linear(in_features=512, out_features=1000, bias=True)\n",
            ")\n",
            "cuda:0\n",
            "Iteration: 500 Loss: 2.0296833515167236 Accuracy: 36.14999771118164\n",
            "Iteration: 1000 Loss: 1.6544592380523682 Accuracy: 40.91999816894531\n",
            "Iteration: 1500 Loss: 1.528391718864441 Accuracy: 44.029998779296875\n",
            "Iteration: 2000 Loss: 1.3944969177246094 Accuracy: 46.40999984741211\n",
            "Iteration: 2500 Loss: 1.3033217191696167 Accuracy: 47.15999984741211\n",
            "Iteration: 3000 Loss: 1.2102385759353638 Accuracy: 48.22999954223633\n",
            "Iteration: 3500 Loss: 1.1214070320129395 Accuracy: 48.91999816894531\n",
            "Iteration: 4000 Loss: 1.0503233671188354 Accuracy: 49.7599983215332\n",
            "Iteration: 4500 Loss: 0.9458604454994202 Accuracy: 50.14999771118164\n",
            "Iteration: 5000 Loss: 0.8602267503738403 Accuracy: 50.2599983215332\n",
            "Iteration: 5500 Loss: 0.7645171284675598 Accuracy: 50.27000045776367\n",
            "Iteration: 6000 Loss: 0.6887330412864685 Accuracy: 50.68000030517578\n",
            "Iteration: 6500 Loss: 0.6000552177429199 Accuracy: 50.22999954223633\n",
            "Iteration: 7000 Loss: 0.5264831781387329 Accuracy: 50.439998626708984\n",
            "Iteration: 7500 Loss: 0.46121376752853394 Accuracy: 50.15999984741211\n",
            "done\n"
          ]
        }
      ],
      "source": [
        "import torchvision.models as models\n",
        "\n",
        "renet18_model = models.resnet18(pretrained = False)\n",
        "\n",
        "model = renet18_model\n",
        "print(model)\n",
        "\n",
        "device = torch.device('cuda:0' if torch.cuda.is_available() else 'cpu')\n",
        "print(device)\n",
        "model.to(device)\n",
        "\n",
        "criterion = torch.nn.CrossEntropyLoss()\n",
        "optimizer = torch.optim.SGD(model.parameters(), lr=0.001)\n",
        "\n",
        "\n",
        "\n",
        "\n",
        "\n",
        "\n",
        "losses = []\n",
        "test_accuracy = []\n",
        "train_t_accuracy = []\n",
        "train = {}\n",
        "iter = 0\n",
        "for epoch in range(15):\n",
        "  t_correct = 0\n",
        "  t_total = 0\n",
        "  for d in c_train_data:\n",
        "    output = model(d[0].to(device))\n",
        "    optimizer.zero_grad()\n",
        "    label = d[1].to(device)\n",
        "    loss = criterion(output, label)\n",
        "\n",
        "    loss.backward()\n",
        "\n",
        "    optimizer.step()\n",
        "    iter+=1\n",
        "\n",
        "    _, t_predicted = torch.max(output.data, 1)\n",
        "    t_total += label.size(0)  \n",
        "    t_correct += (t_predicted == label).sum()\n",
        "\n",
        "\n",
        "  \n",
        "   \n",
        "    if iter % 500 == 0: \n",
        "      losses.append(loss.item())\n",
        "\n",
        "      correct = 0\n",
        "      total = 0\n",
        "      for images, labels in c_test_data:\n",
        "        images = images.to(device)\n",
        "        labels = labels.to(device)\n",
        "        outputs = model(images)\n",
        "        _, predicted = torch.max(outputs.data, 1)\n",
        "        total += labels.size(0)\n",
        "        correct += (predicted == labels).sum()\n",
        "\n",
        "      accuracy = 100 * correct/total\n",
        "      test_accuracy.append(accuracy)\n",
        "      print(\"Iteration:\", iter, \"Loss:\", loss.item(), \"Accuracy:\", accuracy.item())\n",
        "\n",
        "  train_accuracy = 100 * t_correct/t_total\n",
        "  train_t_accuracy.append(train_accuracy)\n",
        "\n",
        "\n",
        "\n",
        "    #optimizer.zero_grad()\n",
        "\n",
        "\n",
        "print(\"done\")\n",
        "\n"
      ]
    },
    {
      "cell_type": "markdown",
      "metadata": {
        "id": "8xvOC4JE8kPb"
      },
      "source": [
        "This ResNet 18 model took 7 minutes to train and got an accuracy of 50%. This model didn't need as many epochs to get that accuracy, it only had 15 epochs Now that we have tested and trained the model, let's look at the accuracy:"
      ]
    },
    {
      "cell_type": "code",
      "execution_count": null,
      "metadata": {
        "colab": {
          "base_uri": "https://localhost:8080/",
          "height": 334
        },
        "id": "2TuJdSod3yfA",
        "outputId": "7528f9dc-f52d-47c1-caec-eece12b26a8d"
      },
      "outputs": [
        {
          "name": "stdout",
          "output_type": "stream",
          "text": [
            "tensor(50.1600, device='cuda:0')\n",
            "tensor(85.4100, device='cuda:0')\n",
            "15\n",
            "15\n"
          ]
        },
        {
          "data": {
            "image/png": "[encoded data removed]",
            "text/plain": [
              "<Figure size 432x288 with 1 Axes>"
            ]
          },
          "metadata": {},
          "output_type": "display_data"
        }
      ],
      "source": [
        "t = []\n",
        "\n",
        "#torch.Tensor.cpu(test_accuracy)\n",
        "for i in test_accuracy:\n",
        "\n",
        "  t += [torch.Tensor.cpu(i)]\n",
        "\n",
        "tt = []\n",
        "for i in train_t_accuracy:\n",
        "  tt += [torch.Tensor.cpu(i)]\n",
        "\n",
        "plt.plot(tt, label = \"training\")\n",
        "plt.plot(t, label = \"test\")\n",
        "\n",
        "plt.legend()\n",
        "plt.ylabel(\"accuracy percentages\")\n",
        "\n",
        "print(test_accuracy[-1])\n",
        "print(train_t_accuracy[-1])\n",
        "print(len(train_t_accuracy))\n",
        "print(len(test_accuracy))"
      ]
    },
    {
      "cell_type": "markdown",
      "metadata": {
        "id": "rYGicFjX8qLm"
      },
      "source": [
        "This accuracy is much higher that what we got in the linear models and it looks pretty good. Let's look at the loss."
      ]
    },
    {
      "cell_type": "code",
      "execution_count": null,
      "metadata": {
        "colab": {
          "base_uri": "https://localhost:8080/",
          "height": 282
        },
        "id": "AkfWMaFC34ki",
        "outputId": "8d8e85ad-586d-42ed-e68e-41f89fac34d3"
      },
      "outputs": [
        {
          "data": {
            "text/plain": [
              "Text(0, 0.5, 'loss')"
            ]
          },
          "execution_count": 38,
          "metadata": {},
          "output_type": "execute_result"
        },
        {
          "data": {
            "image/png": "[encoded data removed]",
            "text/plain": [
              "<Figure size 432x288 with 1 Axes>"
            ]
          },
          "metadata": {},
          "output_type": "display_data"
        }
      ],
      "source": [
        "plt.plot(losses)\n",
        "\n",
        "plt.ylabel(\"loss\")"
      ]
    },
    {
      "cell_type": "markdown",
      "metadata": {
        "id": "df9Tc4qS7ADO"
      },
      "source": [
        "\n",
        "The loss looks as expected. Now we are going to use the ResNet18 built in pytoch model once again, but this time we are using a different optimizer. Instead of SGD, which we have been using, we are going to use Adam.\n"
      ]
    },
    {
      "cell_type": "code",
      "execution_count": null,
      "metadata": {
        "colab": {
          "base_uri": "https://localhost:8080/"
        },
        "id": "PJict_HKOE3K",
        "outputId": "94988fc8-8b1c-4fa5-bda2-3ea147e7c4cb"
      },
      "outputs": [
        {
          "name": "stdout",
          "output_type": "stream",
          "text": [
            "cuda:0\n",
            "Iteration: 500 Loss: 1.0586148500442505 Accuracy: 60.8599967956543\n",
            "Iteration: 1000 Loss: 0.8434422016143799 Accuracy: 66.8699951171875\n",
            "Iteration: 1500 Loss: 0.6737024784088135 Accuracy: 69.65999603271484\n",
            "Iteration: 2000 Loss: 0.6043102145195007 Accuracy: 70.72999572753906\n",
            "Iteration: 2500 Loss: 0.481655091047287 Accuracy: 70.75999450683594\n",
            "Iteration: 3000 Loss: 0.3919850289821625 Accuracy: 71.43999481201172\n",
            "Iteration: 3500 Loss: 0.4362817406654358 Accuracy: 71.72999572753906\n",
            "Iteration: 4000 Loss: 0.3238430917263031 Accuracy: 71.68000030517578\n",
            "Iteration: 4500 Loss: 0.2566445469856262 Accuracy: 72.30999755859375\n",
            "Iteration: 5000 Loss: 0.17834235727787018 Accuracy: 71.87999725341797\n",
            "done\n"
          ]
        }
      ],
      "source": [
        "renet18_model = models.resnet18(pretrained = False)\n",
        "model = renet18_model\n",
        "\n",
        "device = torch.device('cuda:0' if torch.cuda.is_available() else 'cpu')\n",
        "print(device)\n",
        "model.to(device)\n",
        "\n",
        "\n",
        "criterion = torch.nn.CrossEntropyLoss()\n",
        "optimizer = torch.optim.Adam(model.parameters(), lr=0.001)\n",
        "\n",
        "\n",
        "\n",
        "losses = []\n",
        "test_accuracy = []\n",
        "train_t_accuracy = []\n",
        "train = {}\n",
        "iter = 0\n",
        "for epoch in range(10):\n",
        "  t_correct = 0\n",
        "  t_total = 0\n",
        "  for d in c_train_data:\n",
        "    output = model(d[0].to(device))\n",
        "    optimizer.zero_grad()\n",
        "    label = d[1].to(device)\n",
        "    loss = criterion(output, label)\n",
        "\n",
        "\n",
        "    loss.backward()\n",
        "\n",
        "    optimizer.step()\n",
        "    iter+=1\n",
        "\n",
        "    _, t_predicted = torch.max(output.data, 1)\n",
        "    t_total += label.size(0)  \n",
        "    t_correct += (t_predicted == label).sum()\n",
        "    losses.append(loss.item())    \n",
        " \n",
        "    if iter % 500 == 0: \n",
        "      losses.append(loss.item())\n",
        "\n",
        "      correct = 0\n",
        "      total = 0\n",
        "      for images, labels in c_test_data:\n",
        "        images = images.to(device)\n",
        "        labels = labels.to(device)\n",
        "        outputs = model(images)\n",
        "        _, predicted = torch.max(outputs.data, 1)\n",
        "        total += labels.size(0)\n",
        "        correct += (predicted == labels).sum()\n",
        "\n",
        "      accuracy = 100 * correct/total\n",
        "      test_accuracy.append(accuracy)\n",
        "      print(\"Iteration:\", iter, \"Loss:\", loss.item(), \"Accuracy:\", accuracy.item())\n",
        "\n",
        "  \n",
        "  train_accuracy = 100 * t_correct/t_total\n",
        "  train_t_accuracy.append(train_accuracy)\n",
        "\n",
        "\n",
        "\n",
        "    #optimizer.zero_grad()\n",
        "\n",
        "\n",
        "print(\"done\")\n",
        "\n",
        "\n"
      ]
    },
    {
      "cell_type": "markdown",
      "metadata": {
        "id": "lD1GMc_z7UC-"
      },
      "source": [
        "The optimizer Adam creates an accuracy of 72% and this model took 6 minutes to complete. All in all the accuracy is much higher with the Adam optimizer instead of the SGD optimizer as you can see below."
      ]
    },
    {
      "cell_type": "code",
      "execution_count": null,
      "metadata": {
        "colab": {
          "base_uri": "https://localhost:8080/",
          "height": 334
        },
        "id": "Hjmp1b13QYg8",
        "outputId": "7e44e830-7344-4e28-84b4-4b5fb3113a3d"
      },
      "outputs": [
        {
          "name": "stdout",
          "output_type": "stream",
          "text": [
            "tensor(71.8800, device='cuda:0')\n",
            "tensor(94., device='cuda:0')\n",
            "10\n",
            "10\n"
          ]
        },
        {
          "data": {
            "image/png": "[encoded data removed]",
            "text/plain": [
              "<Figure size 432x288 with 1 Axes>"
            ]
          },
          "metadata": {},
          "output_type": "display_data"
        }
      ],
      "source": [
        "t = []\n",
        "\n",
        "#torch.Tensor.cpu(test_accuracy)\n",
        "for i in test_accuracy:\n",
        "\n",
        "  t += [torch.Tensor.cpu(i)]\n",
        "\n",
        "tt = []\n",
        "for i in train_t_accuracy:\n",
        "  tt += [torch.Tensor.cpu(i)]\n",
        "\n",
        "plt.plot(tt, label = \"training\")\n",
        "plt.plot(t, label = \"test\")\n",
        "\n",
        "plt.legend()\n",
        "plt.ylabel(\"accuracy percentages\")\n",
        "\n",
        "print(test_accuracy[-1])\n",
        "print(train_t_accuracy[-1])\n",
        "print(len(train_t_accuracy))\n",
        "print(len(test_accuracy))"
      ]
    },
    {
      "cell_type": "markdown",
      "metadata": {
        "id": "xVv3bVFE7fbQ"
      },
      "source": [
        "Now we have the loss, which is also much lower than other models and optimizers have been."
      ]
    },
    {
      "cell_type": "code",
      "execution_count": null,
      "metadata": {
        "colab": {
          "base_uri": "https://localhost:8080/",
          "height": 282
        },
        "id": "pXuC-mOEQUaX",
        "outputId": "e33fe4d7-98b2-415a-b873-e93b9a555ac7"
      },
      "outputs": [
        {
          "data": {
            "text/plain": [
              "Text(0, 0.5, 'loss')"
            ]
          },
          "execution_count": 41,
          "metadata": {},
          "output_type": "execute_result"
        },
        {
          "data": {
            "image/png": "[encoded data removed]",
            "text/plain": [
              "<Figure size 432x288 with 1 Axes>"
            ]
          },
          "metadata": {},
          "output_type": "display_data"
        }
      ],
      "source": [
        "plt.plot(losses)\n",
        "\n",
        "plt.ylabel(\"loss\")"
      ]
    },
    {
      "cell_type": "markdown",
      "metadata": {
        "id": "FWgIaLgE6S9z"
      },
      "source": [
        "Now we will use a different built in model in oreder to see the difference, I will be using AlexNet. In AlexNet, the images need to be resized to 256, so that is what is happening at the begining of this code."
      ]
    },
    {
      "cell_type": "code",
      "execution_count": null,
      "metadata": {
        "colab": {
          "base_uri": "https://localhost:8080/"
        },
        "id": "6YCqsRdj6iOk",
        "outputId": "1d248c55-1f04-4ad3-b3be-17cccd662f21"
      },
      "outputs": [
        {
          "name": "stdout",
          "output_type": "stream",
          "text": [
            "Files already downloaded and verified\n",
            "Files already downloaded and verified\n"
          ]
        },
        {
          "name": "stderr",
          "output_type": "stream",
          "text": [
            "Using cache found in /root/.cache/torch/hub/pytorch_vision_v0.6.0\n"
          ]
        },
        {
          "name": "stdout",
          "output_type": "stream",
          "text": [
            "AlexNet(\n",
            "  (features): Sequential(\n",
            "    (0): Conv2d(3, 64, kernel_size=(11, 11), stride=(4, 4), padding=(2, 2))\n",
            "    (1): ReLU(inplace=True)\n",
            "    (2): MaxPool2d(kernel_size=3, stride=2, padding=0, dilation=1, ceil_mode=False)\n",
            "    (3): Conv2d(64, 192, kernel_size=(5, 5), stride=(1, 1), padding=(2, 2))\n",
            "    (4): ReLU(inplace=True)\n",
            "    (5): MaxPool2d(kernel_size=3, stride=2, padding=0, dilation=1, ceil_mode=False)\n",
            "    (6): Conv2d(192, 384, kernel_size=(3, 3), stride=(1, 1), padding=(1, 1))\n",
            "    (7): ReLU(inplace=True)\n",
            "    (8): Conv2d(384, 256, kernel_size=(3, 3), stride=(1, 1), padding=(1, 1))\n",
            "    (9): ReLU(inplace=True)\n",
            "    (10): Conv2d(256, 256, kernel_size=(3, 3), stride=(1, 1), padding=(1, 1))\n",
            "    (11): ReLU(inplace=True)\n",
            "    (12): MaxPool2d(kernel_size=3, stride=2, padding=0, dilation=1, ceil_mode=False)\n",
            "  )\n",
            "  (avgpool): AdaptiveAvgPool2d(output_size=(6, 6))\n",
            "  (classifier): Sequential(\n",
            "    (0): Dropout(p=0.5, inplace=False)\n",
            "    (1): Linear(in_features=9216, out_features=4096, bias=True)\n",
            "    (2): ReLU(inplace=True)\n",
            "    (3): Dropout(p=0.5, inplace=False)\n",
            "    (4): Linear(in_features=4096, out_features=4096, bias=True)\n",
            "    (5): ReLU(inplace=True)\n",
            "    (6): Linear(in_features=4096, out_features=1000, bias=True)\n",
            "  )\n",
            ")\n",
            "cuda:0\n",
            "100\n",
            "Iteration: 500 Loss: 6.7718963623046875 Accuracy: 9.739999771118164\n",
            "Iteration: 1000 Loss: 2.3198273181915283 Accuracy: 13.019999504089355\n",
            "Iteration: 1500 Loss: 2.31343674659729 Accuracy: 14.029999732971191\n",
            "Iteration: 2000 Loss: 2.3041298389434814 Accuracy: 13.920000076293945\n",
            "Iteration: 2500 Loss: 2.260941982269287 Accuracy: 15.069999694824219\n",
            "Iteration: 3000 Loss: 2.2716221809387207 Accuracy: 15.170000076293945\n",
            "Iteration: 3500 Loss: 2.225695848464966 Accuracy: 16.260000228881836\n",
            "Iteration: 4000 Loss: 2.2324984073638916 Accuracy: 16.75\n",
            "Iteration: 4500 Loss: 2.168156147003174 Accuracy: 20.170000076293945\n",
            "Iteration: 5000 Loss: 2.0991992950439453 Accuracy: 23.529998779296875\n",
            "done\n"
          ]
        }
      ],
      "source": [
        "import torchvision.models as models\n",
        "\n",
        "transform = T.Compose([\n",
        "    T.Resize(256),\n",
        "    T.ToTensor(),\n",
        "    T.Normalize(\n",
        "        [0.485, 0.456, 0.406], \n",
        "        [0.229, 0.224, 0.225]),\n",
        "])\n",
        "\n",
        "c_cifar_dataset = datasets.CIFAR10(root = './',\n",
        "                         train = True,\n",
        "                         download=True,\n",
        "                         transform = transform\n",
        "                         )\n",
        "\n",
        "c_train_data = DataLoader(c_cifar_dataset, batch_size = 100, ) #shuffle = True\n",
        "\n",
        "c_test_set  = datasets.CIFAR10(root='./',\n",
        "                           train = False,\n",
        "                           download = True,\n",
        "                           transform = transform, )\n",
        "\n",
        "c_test_data = DataLoader(c_test_set, batch_size = 100, shuffle = True,)\n",
        "\n",
        "\n",
        "\n",
        "\n",
        "alex_net = torch.hub.load('pytorch/vision:v0.6.0', 'alexnet', pretrained = False)\n",
        "model = alex_net\n",
        "print(model)\n",
        "\n",
        "device = torch.device('cuda:0' if torch.cuda.is_available() else 'cpu')\n",
        "print(device)\n",
        "model.to(device)\n",
        "\n",
        "criterion = torch.nn.CrossEntropyLoss()\n",
        "optimizer = torch.optim.SGD(model.parameters(), lr=0.001)\n",
        "\n",
        "\n",
        "print(len(c_test_data))\n",
        "\n",
        "\n",
        "\n",
        "losses = []\n",
        "test_accuracy = []\n",
        "train_t_accuracy = []\n",
        "train = {}\n",
        "iter = 0\n",
        "for epoch in range(10):\n",
        "  t_correct = 0\n",
        "  t_total = 0\n",
        "  for d in c_train_data:\n",
        "    output = model(d[0].to(device))\n",
        "    optimizer.zero_grad()\n",
        "    label = d[1].to(device)\n",
        "    loss = criterion(output, label)\n",
        "\n",
        "\n",
        "    loss.backward()\n",
        "\n",
        "    optimizer.step()\n",
        "    iter+=1\n",
        "\n",
        "    _, t_predicted = torch.max(output.data, 1)\n",
        "    t_total += label.size(0)  \n",
        "    t_correct += (t_predicted == label).sum()\n",
        "    losses.append(loss.item())    \n",
        " \n",
        "    if iter % 500 == 0: \n",
        "      losses.append(loss.item())\n",
        "\n",
        "      correct = 0\n",
        "      total = 0\n",
        "      for images, labels in c_test_data:\n",
        "        images = images.to(device)\n",
        "        labels = labels.to(device)\n",
        "        outputs = model(images)\n",
        "        _, predicted = torch.max(outputs.data, 1)\n",
        "        total += labels.size(0)\n",
        "        correct += (predicted == labels).sum()\n",
        "\n",
        "      accuracy = 100 * correct/total\n",
        "      test_accuracy.append(accuracy)\n",
        "      print(\"Iteration:\", iter, \"Loss:\", loss.item(), \"Accuracy:\", accuracy.item())\n",
        "\n",
        "  \n",
        "  train_accuracy = 100 * t_correct/t_total\n",
        "  train_t_accuracy.append(train_accuracy)\n",
        "\n",
        "\n",
        "\n",
        "    #optimizer.zero_grad()\n",
        "\n",
        "\n",
        "print(\"done\")\n",
        "\n",
        "\n"
      ]
    },
    {
      "cell_type": "markdown",
      "metadata": {
        "id": "PsyhL66n6eS1"
      },
      "source": [
        "This model took 1 hour to train and it got an accuracy of 18%. Here is the accuracy of AlexNet with 10 epochs:\n",
        "\n",
        "\n"
      ]
    },
    {
      "cell_type": "code",
      "execution_count": null,
      "metadata": {
        "colab": {
          "base_uri": "https://localhost:8080/",
          "height": 335
        },
        "id": "HqaV-B5GosPJ",
        "outputId": "021b0766-4a92-4408-bb1b-bc19545d99a5"
      },
      "outputs": [
        {
          "name": "stdout",
          "output_type": "stream",
          "text": [
            "tensor(23.5300, device='cuda:0')\n",
            "tensor(22.1000, device='cuda:0')\n",
            "10\n",
            "10\n"
          ]
        },
        {
          "data": {
            "image/png": "[encoded data removed]",
            "text/plain": [
              "<Figure size 432x288 with 1 Axes>"
            ]
          },
          "metadata": {},
          "output_type": "display_data"
        }
      ],
      "source": [
        "t = []\n",
        "\n",
        "#torch.Tensor.cpu(test_accuracy)\n",
        "for i in test_accuracy:\n",
        "\n",
        "  t += [torch.Tensor.cpu(i)]\n",
        "\n",
        "tt = []\n",
        "for i in train_t_accuracy:\n",
        "  tt += [torch.Tensor.cpu(i)]\n",
        "\n",
        "plt.plot(tt, label = \"training\")\n",
        "plt.plot(t, label = \"test\")\n",
        "\n",
        "plt.legend()\n",
        "plt.ylabel(\"accuracy percentages\")\n",
        "\n",
        "print(test_accuracy[-1])\n",
        "print(train_t_accuracy[-1])\n",
        "print(len(train_t_accuracy))\n",
        "print(len(test_accuracy))"
      ]
    },
    {
      "cell_type": "markdown",
      "metadata": {
        "id": "o5X9qfsz6knG"
      },
      "source": [
        "It is not the most accurate of convolutional nueral networks that we have used thus far, and ResNet was better. However that makes sense since AlexNet is an extremmly deep nueral network that needs an extreme amount of data in order to train to any sort of accuracy. CIFAR10 is not enough data, and my computer cannot handle doing more epoch than I already did. Here is the loss of the nueral network:"
      ]
    },
    {
      "cell_type": "code",
      "execution_count": null,
      "metadata": {
        "colab": {
          "base_uri": "https://localhost:8080/",
          "height": 282
        },
        "id": "o-j_v3pZotwK",
        "outputId": "c14d6560-cf45-4b15-9e36-11f1db26091e"
      },
      "outputs": [
        {
          "data": {
            "text/plain": [
              "Text(0, 0.5, 'loss')"
            ]
          },
          "execution_count": 45,
          "metadata": {},
          "output_type": "execute_result"
        },
        {
          "data": {
            "image/png": "[encoded data removed]",
            "text/plain": [
              "<Figure size 432x288 with 1 Axes>"
            ]
          },
          "metadata": {},
          "output_type": "display_data"
        }
      ],
      "source": [
        "#l = []\n",
        "#for i in losses:\n",
        "#  l += [torch.Tensor.cpu(i)]\n",
        "plt.plot(losses)\n",
        "\n",
        "plt.ylabel(\"loss\")"
      ]
    },
    {
      "cell_type": "markdown",
      "metadata": {
        "id": "o-0QiYFF6zoH"
      },
      "source": [
        "The loss looks similiar to a lot of the others that we have seen so far.:"
      ]
    }
  ],
  "metadata": {
    "accelerator": "TPU",
    "colab": {
      "collapsed_sections": [],
      "name": "Copy of HW1_AlexaRoskowski.ipynb",
      "provenance": []
    },
    "kernelspec": {
      "display_name": "Python 3",
      "name": "python3"
    },
    "language_info": {
      "name": "python"
    },
    "widgets": {
      "application/vnd.jupyter.widget-state+json": {
        "1657ebb64d3c4f488c9f7905924f074e": {
          "model_module": "@jupyter-widgets/controls",
          "model_module_version": "1.5.0",
          "model_name": "FloatProgressModel",
          "state": {
            "_dom_classes": [],
            "_model_module": "@jupyter-widgets/controls",
            "_model_module_version": "1.5.0",
            "_model_name": "FloatProgressModel",
            "_view_count": null,
            "_view_module": "@jupyter-widgets/controls",
            "_view_module_version": "1.5.0",
            "_view_name": "ProgressView",
            "bar_style": "success",
            "description": "",
            "description_tooltip": null,
            "layout": "IPY_MODEL_61707d9a91f8453fb31bf6391ab75142",
            "max": 170498071,
            "min": 0,
            "orientation": "horizontal",
            "style": "IPY_MODEL_ae018d048fda4753af4a5407a0608486",
            "value": 170498071
          }
        },
        "1d098bddc4d449b7b06da2cc11f1ca1d": {
          "model_module": "@jupyter-widgets/base",
          "model_module_version": "1.2.0",
          "model_name": "LayoutModel",
          "state": {
            "_model_module": "@jupyter-widgets/base",
            "_model_module_version": "1.2.0",
            "_model_name": "LayoutModel",
            "_view_count": null,
            "_view_module": "@jupyter-widgets/base",
            "_view_module_version": "1.2.0",
            "_view_name": "LayoutView",
            "align_content": null,
            "align_items": null,
            "align_self": null,
            "border": null,
            "bottom": null,
            "display": null,
            "flex": null,
            "flex_flow": null,
            "grid_area": null,
            "grid_auto_columns": null,
            "grid_auto_flow": null,
            "grid_auto_rows": null,
            "grid_column": null,
            "grid_gap": null,
            "grid_row": null,
            "grid_template_areas": null,
            "grid_template_columns": null,
            "grid_template_rows": null,
            "height": null,
            "justify_content": null,
            "justify_items": null,
            "left": null,
            "margin": null,
            "max_height": null,
            "max_width": null,
            "min_height": null,
            "min_width": null,
            "object_fit": null,
            "object_position": null,
            "order": null,
            "overflow": null,
            "overflow_x": null,
            "overflow_y": null,
            "padding": null,
            "right": null,
            "top": null,
            "visibility": null,
            "width": null
          }
        },
        "434d3287ff41402d928e67683b589617": {
          "model_module": "@jupyter-widgets/controls",
          "model_module_version": "1.5.0",
          "model_name": "HBoxModel",
          "state": {
            "_dom_classes": [],
            "_model_module": "@jupyter-widgets/controls",
            "_model_module_version": "1.5.0",
            "_model_name": "HBoxModel",
            "_view_count": null,
            "_view_module": "@jupyter-widgets/controls",
            "_view_module_version": "1.5.0",
            "_view_name": "HBoxView",
            "box_style": "",
            "children": [
              "IPY_MODEL_4c2c18f1fca34281afff52c6028a3ce6",
              "IPY_MODEL_1657ebb64d3c4f488c9f7905924f074e",
              "IPY_MODEL_d426144659f141a7ac27eb1a7c132d28"
            ],
            "layout": "IPY_MODEL_1d098bddc4d449b7b06da2cc11f1ca1d"
          }
        },
        "4c2c18f1fca34281afff52c6028a3ce6": {
          "model_module": "@jupyter-widgets/controls",
          "model_module_version": "1.5.0",
          "model_name": "HTMLModel",
          "state": {
            "_dom_classes": [],
            "_model_module": "@jupyter-widgets/controls",
            "_model_module_version": "1.5.0",
            "_model_name": "HTMLModel",
            "_view_count": null,
            "_view_module": "@jupyter-widgets/controls",
            "_view_module_version": "1.5.0",
            "_view_name": "HTMLView",
            "description": "",
            "description_tooltip": null,
            "layout": "IPY_MODEL_8ed7cf7bea914595aee5c2dcdd2f2f48",
            "placeholder": "​",
            "style": "IPY_MODEL_93074385427446609f68e8a7110d6c4d",
            "value": ""
          }
        },
        "61707d9a91f8453fb31bf6391ab75142": {
          "model_module": "@jupyter-widgets/base",
          "model_module_version": "1.2.0",
          "model_name": "LayoutModel",
          "state": {
            "_model_module": "@jupyter-widgets/base",
            "_model_module_version": "1.2.0",
            "_model_name": "LayoutModel",
            "_view_count": null,
            "_view_module": "@jupyter-widgets/base",
            "_view_module_version": "1.2.0",
            "_view_name": "LayoutView",
            "align_content": null,
            "align_items": null,
            "align_self": null,
            "border": null,
            "bottom": null,
            "display": null,
            "flex": null,
            "flex_flow": null,
            "grid_area": null,
            "grid_auto_columns": null,
            "grid_auto_flow": null,
            "grid_auto_rows": null,
            "grid_column": null,
            "grid_gap": null,
            "grid_row": null,
            "grid_template_areas": null,
            "grid_template_columns": null,
            "grid_template_rows": null,
            "height": null,
            "justify_content": null,
            "justify_items": null,
            "left": null,
            "margin": null,
            "max_height": null,
            "max_width": null,
            "min_height": null,
            "min_width": null,
            "object_fit": null,
            "object_position": null,
            "order": null,
            "overflow": null,
            "overflow_x": null,
            "overflow_y": null,
            "padding": null,
            "right": null,
            "top": null,
            "visibility": null,
            "width": null
          }
        },
        "8ed7cf7bea914595aee5c2dcdd2f2f48": {
          "model_module": "@jupyter-widgets/base",
          "model_module_version": "1.2.0",
          "model_name": "LayoutModel",
          "state": {
            "_model_module": "@jupyter-widgets/base",
            "_model_module_version": "1.2.0",
            "_model_name": "LayoutModel",
            "_view_count": null,
            "_view_module": "@jupyter-widgets/base",
            "_view_module_version": "1.2.0",
            "_view_name": "LayoutView",
            "align_content": null,
            "align_items": null,
            "align_self": null,
            "border": null,
            "bottom": null,
            "display": null,
            "flex": null,
            "flex_flow": null,
            "grid_area": null,
            "grid_auto_columns": null,
            "grid_auto_flow": null,
            "grid_auto_rows": null,
            "grid_column": null,
            "grid_gap": null,
            "grid_row": null,
            "grid_template_areas": null,
            "grid_template_columns": null,
            "grid_template_rows": null,
            "height": null,
            "justify_content": null,
            "justify_items": null,
            "left": null,
            "margin": null,
            "max_height": null,
            "max_width": null,
            "min_height": null,
            "min_width": null,
            "object_fit": null,
            "object_position": null,
            "order": null,
            "overflow": null,
            "overflow_x": null,
            "overflow_y": null,
            "padding": null,
            "right": null,
            "top": null,
            "visibility": null,
            "width": null
          }
        },
        "93074385427446609f68e8a7110d6c4d": {
          "model_module": "@jupyter-widgets/controls",
          "model_module_version": "1.5.0",
          "model_name": "DescriptionStyleModel",
          "state": {
            "_model_module": "@jupyter-widgets/controls",
            "_model_module_version": "1.5.0",
            "_model_name": "DescriptionStyleModel",
            "_view_count": null,
            "_view_module": "@jupyter-widgets/base",
            "_view_module_version": "1.2.0",
            "_view_name": "StyleView",
            "description_width": ""
          }
        },
        "a1225468903f4b4da8376bc7351a4ba7": {
          "model_module": "@jupyter-widgets/base",
          "model_module_version": "1.2.0",
          "model_name": "LayoutModel",
          "state": {
            "_model_module": "@jupyter-widgets/base",
            "_model_module_version": "1.2.0",
            "_model_name": "LayoutModel",
            "_view_count": null,
            "_view_module": "@jupyter-widgets/base",
            "_view_module_version": "1.2.0",
            "_view_name": "LayoutView",
            "align_content": null,
            "align_items": null,
            "align_self": null,
            "border": null,
            "bottom": null,
            "display": null,
            "flex": null,
            "flex_flow": null,
            "grid_area": null,
            "grid_auto_columns": null,
            "grid_auto_flow": null,
            "grid_auto_rows": null,
            "grid_column": null,
            "grid_gap": null,
            "grid_row": null,
            "grid_template_areas": null,
            "grid_template_columns": null,
            "grid_template_rows": null,
            "height": null,
            "justify_content": null,
            "justify_items": null,
            "left": null,
            "margin": null,
            "max_height": null,
            "max_width": null,
            "min_height": null,
            "min_width": null,
            "object_fit": null,
            "object_position": null,
            "order": null,
            "overflow": null,
            "overflow_x": null,
            "overflow_y": null,
            "padding": null,
            "right": null,
            "top": null,
            "visibility": null,
            "width": null
          }
        },
        "ae018d048fda4753af4a5407a0608486": {
          "model_module": "@jupyter-widgets/controls",
          "model_module_version": "1.5.0",
          "model_name": "ProgressStyleModel",
          "state": {
            "_model_module": "@jupyter-widgets/controls",
            "_model_module_version": "1.5.0",
            "_model_name": "ProgressStyleModel",
            "_view_count": null,
            "_view_module": "@jupyter-widgets/base",
            "_view_module_version": "1.2.0",
            "_view_name": "StyleView",
            "bar_color": null,
            "description_width": ""
          }
        },
        "d0aa4bd42b5c4ca290b59a5f54cac799": {
          "model_module": "@jupyter-widgets/controls",
          "model_module_version": "1.5.0",
          "model_name": "DescriptionStyleModel",
          "state": {
            "_model_module": "@jupyter-widgets/controls",
            "_model_module_version": "1.5.0",
            "_model_name": "DescriptionStyleModel",
            "_view_count": null,
            "_view_module": "@jupyter-widgets/base",
            "_view_module_version": "1.2.0",
            "_view_name": "StyleView",
            "description_width": ""
          }
        },
        "d426144659f141a7ac27eb1a7c132d28": {
          "model_module": "@jupyter-widgets/controls",
          "model_module_version": "1.5.0",
          "model_name": "HTMLModel",
          "state": {
            "_dom_classes": [],
            "_model_module": "@jupyter-widgets/controls",
            "_model_module_version": "1.5.0",
            "_model_name": "HTMLModel",
            "_view_count": null,
            "_view_module": "@jupyter-widgets/controls",
            "_view_module_version": "1.5.0",
            "_view_name": "HTMLView",
            "description": "",
            "description_tooltip": null,
            "layout": "IPY_MODEL_a1225468903f4b4da8376bc7351a4ba7",
            "placeholder": "​",
            "style": "IPY_MODEL_d0aa4bd42b5c4ca290b59a5f54cac799",
            "value": " 170499072/? [00:02&lt;00:00, 83387111.35it/s]"
          }
        }
      }
    }
  },
  "nbformat": 4,
  "nbformat_minor": 0
}